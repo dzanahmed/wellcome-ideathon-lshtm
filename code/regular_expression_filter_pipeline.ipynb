{
  "nbformat": 4,
  "nbformat_minor": 0,
  "metadata": {
    "colab": {
      "provenance": [],
      "include_colab_link": true
    },
    "kernelspec": {
      "name": "python3",
      "display_name": "Python 3"
    },
    "language_info": {
      "name": "python"
    }
  },
  "cells": [
    {
      "cell_type": "markdown",
      "metadata": {
        "id": "view-in-github",
        "colab_type": "text"
      },
      "source": [
        "<a href=\"https://colab.research.google.com/github/dzanahmed/welcome-ideathon-lshtm/blob/main/code/regular_expression_filter_pipeline.ipynb\" target=\"_parent\"><img src=\"https://colab.research.google.com/assets/colab-badge.svg\" alt=\"Open In Colab\"/></a>"
      ]
    },
    {
      "cell_type": "markdown",
      "source": [
        "#Setup"
      ],
      "metadata": {
        "id": "P2NZUxY6Xuhr"
      }
    },
    {
      "cell_type": "markdown",
      "source": [
        "## Load packages"
      ],
      "metadata": {
        "id": "DRCamWbmL2Sh"
      }
    },
    {
      "cell_type": "code",
      "source": [
        "import re\n",
        "import pandas as pd"
      ],
      "metadata": {
        "id": "SGPNWWrXL1db"
      },
      "execution_count": null,
      "outputs": []
    },
    {
      "cell_type": "markdown",
      "source": [
        "## Load data for testing"
      ],
      "metadata": {
        "id": "wRWoJDL6Xwfd"
      }
    },
    {
      "cell_type": "code",
      "source": [
        "url = \"https://raw.githubusercontent.com/dzanahmed/welcome-ideathon-lshtm/main/data/interim/vax_tweets_v0.csv?token=GHSAT0AAAAAACB5CGEQ4RAN2HFU76LWC2JMZFJ2QXA\"\n",
        "raw_df = pd.read_csv(url)"
      ],
      "metadata": {
        "id": "Mx7DLaotXy08",
        "colab": {
          "base_uri": "https://localhost:8080/"
        },
        "outputId": "d0e88827-a714-41fb-ca41-c54b7237d7fe"
      },
      "execution_count": 188,
      "outputs": [
        {
          "output_type": "execute_result",
          "data": {
            "text/plain": [
              "1000"
            ]
          },
          "metadata": {},
          "execution_count": 188
        }
      ]
    },
    {
      "cell_type": "code",
      "source": [
        "random_sample = raw_df.sample(frac=0.1, random_state=42)\n",
        "random_sample = random_sample.loc[:, ['tweet_id', 'text']]\n",
        "len(random_sample)"
      ],
      "metadata": {
        "colab": {
          "base_uri": "https://localhost:8080/"
        },
        "id": "AKG8bDTPMKz0",
        "outputId": "0b18c136-e1fb-4f9a-e225-96616770592a"
      },
      "execution_count": 193,
      "outputs": [
        {
          "output_type": "execute_result",
          "data": {
            "text/plain": [
              "10000"
            ]
          },
          "metadata": {},
          "execution_count": 193
        }
      ]
    },
    {
      "cell_type": "markdown",
      "source": [
        "## Keyword/RegEx dictionaries"
      ],
      "metadata": {
        "id": "NzC7F2BLKMLN"
      }
    },
    {
      "cell_type": "code",
      "execution_count": 170,
      "metadata": {
        "id": "isGBXUvnKCZf"
      },
      "outputs": [],
      "source": [
        "vaccine_filter = [\n",
        "    r\"(?=.*\\bCOVID\\s+vaccine\\b)\",\n",
        "    r\"(?=.*\\bvaccine\\b)\",\n",
        "    r\"(?=.*\\bvaccination\\b)\",\n",
        "    r\"(?=.*\\bimmune\\b)\",\n",
        "    r\"(?=.*\\bimmunity\\b)\",\n",
        "    r\"(?=.*\\bCOVID\\s+vaccination\\b)\",\n",
        "    r\"(?=.*\\bcorona\\s+vaccine\\b)\",\n",
        "    r\"(?=.*\\bCOVID19\\s+vaccination\\b)\",\n",
        "    r\"(?=.*\\bCOVID-19\\s+vaccination\\b)\",\n",
        "    r\"(?=.*\\bcoronavirus\\s+vaccination\\b)\",\n",
        "    r\"(?=.*\\bcoronavirus\\s+vaccine\\b)\",\n",
        "    r\"(?=.*\\bCOVID-19\\s+vaccine\\b)\",\n",
        "    r\"(?=.*\\bModerna\\b)\",\n",
        "    r\"(?=.*\\bPfizer\\b)\",\n",
        "    r\"(?=.*\\bJ&J\\b)\",\n",
        "    r\"(?=.*\\bJohnson\\s+&\\s+Johnson\\b)\",\n",
        "    r\"(?=.*\\bCOVID\\s+vax\\b)\",\n",
        "    r\"(?=.*\\bcorona\\s+vax\\b)\",\n",
        "    r\"(?=.*\\bcovid-19\\s+vax\\b)\",\n",
        "    r\"(?=.*\\bcovid19\\s+vax\\b)\",\n",
        "    r\"(?=.*\\bcoronavirus\\s+vax\\b)\",\n",
        "    r\"(?=.*\\bvaccinated\\b)\",\n",
        "    r\"(?=.*\\bcovid\\b)\",\n",
        "    r\"(?=.*\\bvaccinating\\b)\",\n",
        "    r\"(?=.*\\bCovaxin\\b)\",\n",
        "    r\"(?=.*\\bjab\\b)\"\n",
        "]\n",
        "\n",
        "hesitancy_filter = [\n",
        "    r\"(?=.*\\b(worry|worries|worried|worrying)\\b)\",\n",
        "    r\"(?=.*\\b((dont|do\\s*not)\\s*(want|give|take|have))\\b)\",\n",
        "    r\"(?=.*\\b(reluctant)\\b)\",\n",
        "    r\"(?=.*\\bskeptic\\w*\\b)\",\n",
        "    r\"(?=.*\\bconflicted\\b)\",\n",
        "    r\"(?=.*\\bdoubt\\w*\\b)\",\n",
        "    r\"(?=.*\\bcan\\s*not\\b)\",\n",
        "    r\"(?=.*\\bwill\\s*not\\b)\",\n",
        "    r\"(?=.*\\bwont\\b)\",\n",
        "    r\"(?=.*\\bunsure\\b)\",\n",
        "    r\"(?=.*\\bunwilling\\b)\",\n",
        "    r\"(?=.*\\bhesitant\\b)\",\n",
        "    r\"(?=.*\\bquestion\\w*\\b)\",\n",
        "    r\"(?=.*\\bon\\s*the\\s*fence\\b)\",\n",
        "    r\"(?=.*\\bwaver\\w*\\b)\",\n",
        "    r\"(?=.*\\b(scared|scary)\\b)\",\n",
        "    r\"(?=.*\\bafraid\\b)\",\n",
        "    r\"(?=.*\\bnervous\\b)\",\n",
        "    r\"(?=.*\\bfright\\b)\",\n",
        "    r\"(?=.*\\bhorror\\b)\"\n",
        "\n",
        "]\n",
        "\n",
        "safety_filter = [\n",
        "    r\"(?=.*\\bmortality\\w*\\b)\",\n",
        "    r\"(?=.*\\bdeath\\w*\\b)\",\n",
        "    r\"(?=.*\\bkill\\w*\\b)\",\n",
        "    r\"(?=.*\\b(side\\s?effects\\w*))\\b\",\n",
        "    r\"(?=.*\\bpoison\\w*\\b)\",\n",
        "    r\"(?=.*\\blead\\w*\\b)\",\n",
        "    r\"(?=.*\\b(worse\\s?than\\s?infection\\w*))\\b\",\n",
        "    r\"(?=.*\\bhazardous\\w*\\b)\",\n",
        "    r\"(?=.*\\blethal\\w*\\b)\",\n",
        "    r\"(?=.*\\bfatality\\w*\\b)\",\n",
        "    r\"(?=.*\\bharmful\\w*\\b)\",\n",
        "    r\"(?=.*\\b(adverse\\s?reactions\\w*))\\b\",\n",
        "    r\"(?=.*\\btoxic\\w*\\b)\",\n",
        "    r\"(?=.*\\b(result\\s?in\\s?death\\w*))\\b\",\n",
        "    r\"(?=.*\\bdeadly\\w*\\b)\",\n",
        "    r\"(?=.*\\beliminate\\w*\\b)\",\n",
        "    r\"(?=.*\\bcomplications\\w*\\b)\",\n",
        "    r\"(?=.*\\bdetrimental\\w*\\b)\",\n",
        "    r\"(?=.*\\b(potentially\\s?lethal\\w*))\\b\",\n",
        "    r\"(?=.*\\bperilous\\w*\\b)\",\n",
        "    r\"(?=.*\\binjurious\\w*\\b)\",\n",
        "    r\"(?=.*\\b(severe\\s?consequences\\w*))\\b\",\n",
        "    r\"(?=.*\\bhazard\\w*\\b)\",\n",
        "    r\"(?=.*\\bdestructive\\w*\\b)\",\n",
        "    r\"(?=.*\\bendanger\\w*\\b)\",\n",
        "    r\"(?=.*\\bcatastrophic\\w*\\b)\",\n",
        "    r\"(?=.*\\b(risks\\s?outweigh\\s?benefits\\w*))\\b\",\n",
        "    r\"(?=.*\\blife-threatening\\w*\\b)\",\n",
        "    r\"(?=.*\\bunsafe\\w*\\b)\",\n",
        "    r\"(?=.*\\bfatal\\w*\\b)\",\n",
        "    r\"(?=.*\\bmortality\\w*\\b)\",\n",
        "    r\"(?=.*\\b(negative\\s?outcomes\\w*))\\b\",\n",
        "    r\"(?=.*\\btoxicity\\w*\\b)\",\n",
        "    r\"(?=.*\\bpoisonous\\w*\\b)\",\n",
        "    r\"(?=.*\\b(inflict\\s?harm\\w*))\\b\",\n",
        "    r\"(?=.*\\bcompromising\\w*\\b)\",\n",
        "    r\"(?=.*\\bdetriment\\w*\\b)\",\n",
        "    r\"(?=.*\\b(critical\\s?condition\\w*))\\b\",\n",
        "    r\"(?=.*\\brisky\\w*\\b)\",\n",
        "    r\"(?=.*\\bincurable\\w*\\b)\",\n",
        "    r\"(?=.*\\bmenacing\\w*\\b)\"\n",
        "]\n",
        "\n",
        "mistrust_filter = [\n",
        "    r\"(?=.*\\b(doubt\\w*)\\b)\",\n",
        "    r\"(?=.*\\b(suspic\\w*)\\b)\",\n",
        "    r\"(?=.*\\b(skeptic\\w*)\\b)\",\n",
        "    r\"(?=.*\\b(distrust\\w*)\\b)\",\n",
        "    r\"(?=.*\\b(cynic\\w*)\\b)\",\n",
        "    r\"(?=.*\\b(misbelief\\w*)\\b)\",\n",
        "    r\"(?=.*\\b(disbelief\\w*)\\b)\",\n",
        "    r\"(?=.*\\b(wari\\w*)\\b)\",\n",
        "    r\"(?=.*\\b(apprehen\\w*)\\b)\",\n",
        "    r\"(?=.*\\b(disillusion\\w*)\\b)\",\n",
        "    r\"(?=.*\\b(misgiv\\w*)\\b)\",\n",
        "    r\"(?=.*\\b(uncertain\\w*)\\b)\",\n",
        "    r\"(?=.*\\b(reservation\\w*)\\b)\",\n",
        "    r\"(?=.*\\b(hesitat\\w*)\\b)\",\n",
        "    r\"(?=.*\\b(question\\w*)\\b)\",\n",
        "    r\"(?=.*\\b(lack\\sof\\sconfidenc\\w*)\\b)\",\n",
        "    r\"(?=.*\\b(unreliab\\w*)\\b)\",\n",
        "    r\"(?=.*\\b(dubiousn\\w*)\\b)\",\n",
        "    r\"(?=.*\\b(skepti\\smindset\\w*)\\b)\",\n",
        "    r\"(?=.*\\b(lack\\sof\\sfaith\\w*)\\b)\",\n",
        "    r\"(?=.*\\b(disreputable\\w*)\\b)\",\n",
        "    r\"(?=.*\\b(paranoia\\w*)\\b)\",\n",
        "    r\"(?=.*\\b(suspiciousness\\w*)\\b)\",\n",
        "    r\"(?=.*\\b(doubtfulness\\w*)\\b)\",\n",
        "    r\"(?=.*\\b(mistrust\\w*)\\b)\",\n",
        "    r\"(?=.*\\b(incredulous\\w*)\\b)\",\n",
        "    r\"(?=.*\\b(concern\\w*)\\b)\",\n",
        "    r\"(?=.*\\b(pessimism\\w*)\\b)\",\n",
        "    r\"(?=.*\\b(skepticism\\w*)\\b)\",\n",
        "    r\"(?=.*\\b(dubiety\\w*)\\b)\",\n",
        "    r\"(?=.*\\b(apprehensiveness\\w*)\\b)\",\n",
        "    r\"(?=.*\\b(reservation\\w*)\\b)\",\n",
        "    r\"(?=.*\\b(untrustworthiness\\w*)\\b)\",\n",
        "    r\"(?=.*\\b(cautiousness\\w*)\\b)\",\n",
        "    r\"(?=.*\\b(hesitan\\w*)\\b)\",\n",
        "    r\"(?=.*\\b(surveil\\w*)\\b)\",\n",
        "    r\"(?=.*\\b(discredit\\w*)\\b)\",\n",
        "    r\"(?=.*\\b(wariness\\w*)\\b)\",\n",
        "    r\"(?=.*\\b(skeptical\\w*)\\b)\",\n",
        "    r\"(?=.*\\b(distrustful\\w*)\\b)\",\n",
        "    r\"(?=.*\\b(critical\\w*)\\b)\",\n",
        "    r\"(?=.*\\b(secrecy\\w*)\\b)\",\n",
        "    r\"(?=.*\\b(misgiving\\w*)\\b)\",\n",
        "    r\"(?=.*\\b(scrutiny\\w*)\\b)\",\n",
        "    r\"(?=.*\\b(apprehensive\\w*)\\b)\"\n",
        "]"
      ]
    },
    {
      "cell_type": "markdown",
      "source": [
        "## Testing zone"
      ],
      "metadata": {
        "id": "iYtWX1u3Xk4n"
      }
    },
    {
      "cell_type": "code",
      "source": [
        "def test_regex_filter(regex):\n",
        "  \"\"\"\n",
        "  This function tests whether a user-provided piece of text will pass the specified regex filter\n",
        "\n",
        "  \"\"\"\n",
        "  input_string = input(\"Sentence: \")\n",
        "\n",
        "  for expression in regex:\n",
        "    pattern = re.compile(expression)\n",
        "    if pattern.match(input_string) is not None:\n",
        "      return True\n",
        "\n",
        "  return False"
      ],
      "metadata": {
        "id": "WJGEIJcIMN3r"
      },
      "execution_count": null,
      "outputs": []
    },
    {
      "cell_type": "code",
      "source": [
        "test_regex_filter(vaccine_filter)"
      ],
      "metadata": {
        "colab": {
          "base_uri": "https://localhost:8080/"
        },
        "id": "FJtbFbDEWhBR",
        "outputId": "df3d06de-449f-41ec-9c2c-139bedecb827"
      },
      "execution_count": 135,
      "outputs": [
        {
          "name": "stdout",
          "output_type": "stream",
          "text": [
            "Sentence: have covid vaccine\n"
          ]
        },
        {
          "output_type": "execute_result",
          "data": {
            "text/plain": [
              "True"
            ]
          },
          "metadata": {},
          "execution_count": 135
        }
      ]
    },
    {
      "cell_type": "markdown",
      "source": [
        "# Apply filters and note results"
      ],
      "metadata": {
        "id": "No-28Od_XnEs"
      }
    },
    {
      "cell_type": "markdown",
      "source": [
        "## function to apply filter"
      ],
      "metadata": {
        "id": "6PMDRLfCc7ZH"
      }
    },
    {
      "cell_type": "code",
      "source": [
        "# function to apply filter to a dataframe and return filter results\n",
        "\n",
        "def apply_regex_filter(df, regex, new_col_name):\n",
        "  df[new_col_name] = False\n",
        "\n",
        "  for expression in regex:\n",
        "    # Use 'str.contains()' to check if each tweet matches the pattern\n",
        "    mask = df['text'].str.contains(expression, flags=re.IGNORECASE, regex=True)\n",
        "\n",
        "    # Update 'no_vax_filter' column where the tweet matches the pattern\n",
        "    df.loc[mask, new_col_name] = True\n",
        "\n",
        "  return df"
      ],
      "metadata": {
        "id": "As2YG948XsxL"
      },
      "execution_count": null,
      "outputs": []
    },
    {
      "cell_type": "markdown",
      "source": [
        "## apply filters to dataset"
      ],
      "metadata": {
        "id": "Z-WC8cefc_4F"
      }
    },
    {
      "cell_type": "code",
      "source": [
        "random_sample = apply_regex_filter(random_sample, regex = vaccine_filter, new_col_name = \"vaccine_filter\")\n",
        "random_sample = apply_regex_filter(random_sample, regex = hesitancy_filter, new_col_name = \"hesitancy_filter\")\n",
        "random_sample = apply_regex_filter(random_sample, regex = mistrust_filter, new_col_name = \"mistrust_filter\")\n",
        "random_sample = apply_regex_filter(random_sample, regex = safety_filter, new_col_name = \"safety_filter\")"
      ],
      "metadata": {
        "colab": {
          "base_uri": "https://localhost:8080/"
        },
        "id": "_EuLIbQsaKMc",
        "outputId": "026262a1-1086-4a6f-bff0-3875a9869fcf"
      },
      "execution_count": null,
      "outputs": [
        {
          "output_type": "stream",
          "name": "stderr",
          "text": [
            "<ipython-input-114-ca3f50699e99>:8: UserWarning: This pattern is interpreted as a regular expression, and has match groups. To actually get the groups, use str.extract.\n",
            "  mask = df['text'].str.contains(expression, flags=re.IGNORECASE, regex=True)\n",
            "<ipython-input-114-ca3f50699e99>:8: UserWarning: This pattern is interpreted as a regular expression, and has match groups. To actually get the groups, use str.extract.\n",
            "  mask = df['text'].str.contains(expression, flags=re.IGNORECASE, regex=True)\n",
            "<ipython-input-114-ca3f50699e99>:8: UserWarning: This pattern is interpreted as a regular expression, and has match groups. To actually get the groups, use str.extract.\n",
            "  mask = df['text'].str.contains(expression, flags=re.IGNORECASE, regex=True)\n"
          ]
        }
      ]
    },
    {
      "cell_type": "markdown",
      "source": [
        "# Explore filter performance"
      ],
      "metadata": {
        "id": "ob8C3Y0RdIGZ"
      }
    },
    {
      "cell_type": "markdown",
      "source": [
        "## define functions to explore filter performance"
      ],
      "metadata": {
        "id": "9U1G00hjctgi"
      }
    },
    {
      "cell_type": "code",
      "source": [
        "def report_label_spread(df, filter_name):\n",
        "  positive_labels = len(df[df[filter_name] == True])\n",
        "  negative_labels = len(df[df[filter_name] == False])\n",
        "  total_labels = len(df)\n",
        "\n",
        "  print(f\"Proportion positive labels: {positive_labels / total_labels}\")\n",
        "  print(f\"Proportion negative labels: {negative_labels / total_labels}\")\n",
        "\n",
        "\n",
        "def show_positive_labels(df, filter_name):\n",
        "  return df[df[filter_name] == True].loc[:, ['text', filter_name]]"
      ],
      "metadata": {
        "id": "ZDhyjAsRafv4"
      },
      "execution_count": null,
      "outputs": []
    },
    {
      "cell_type": "markdown",
      "source": [
        "## explore filter performance"
      ],
      "metadata": {
        "id": "EX1ZmQyacmXg"
      }
    },
    {
      "cell_type": "code",
      "source": [
        "filter_names = ['vaccine_filter', 'hesitancy_filter', 'safety_filter', 'mistrust_filter']\n",
        "\n",
        "for filter_name in filter_names:\n",
        "  print(f\"\\n{filter_name}:\")\n",
        "  report_label_spread(df = random_sample, filter_name = filter_name)\n",
        "\n",
        "show_positive_labels(df = random_sample, filter_name = \"mistrust_filter\")"
      ],
      "metadata": {
        "colab": {
          "base_uri": "https://localhost:8080/",
          "height": 3232
        },
        "id": "7q9y59vpcKl3",
        "outputId": "f29c269f-e565-44f0-c830-1cb5387bfcd2"
      },
      "execution_count": null,
      "outputs": [
        {
          "output_type": "stream",
          "name": "stdout",
          "text": [
            "\n",
            "vaccine_filter:\n",
            "Proportion positive labels: 0.4672\n",
            "Proportion negative labels: 0.5328\n",
            "\n",
            "hesitancy_filter:\n",
            "Proportion positive labels: 0.0164\n",
            "Proportion negative labels: 0.9836\n",
            "\n",
            "safety_filter:\n",
            "Proportion positive labels: 0.0598\n",
            "Proportion negative labels: 0.9402\n",
            "\n",
            "mistrust_filter:\n",
            "Proportion positive labels: 0.0294\n",
            "Proportion negative labels: 0.9706\n"
          ]
        },
        {
          "output_type": "execute_result",
          "data": {
            "text/plain": [
              "                                                    text  mistrust_filter\n",
              "7126   Matt Damon on COVID vaccine hesitancy: Trust s...             True\n",
              "6981   @EastEndCommuni1 I think you mean “hell, no”. ...             True\n",
              "44355  #CovidVaccine !! When? How? Where? Lets answer...             True\n",
              "98780  From the donkeys mouth. This then begs the que...             True\n",
              "30095  This event is happening tomorrow. Get your que...             True\n",
              "...                                                  ...              ...\n",
              "62479  The second COVID-19 vaccine dose is critical f...             True\n",
              "85217  @donlemon  @KizzyPhD  @AOC  @NIH  #drfauci  I ...             True\n",
              "45426  Join @ourhealthiersel for a special #Instagram...             True\n",
              "2290   #COVIDVaccine AotearoA \\nIn New Zealand’s stat...             True\n",
              "91707  I'm concerned that we're being too precise wit...             True\n",
              "\n",
              "[147 rows x 2 columns]"
            ],
            "text/html": [
              "\n",
              "  <div id=\"df-b1e469a9-05c1-4bf0-8ab3-d451a91081e7\">\n",
              "    <div class=\"colab-df-container\">\n",
              "      <div>\n",
              "<style scoped>\n",
              "    .dataframe tbody tr th:only-of-type {\n",
              "        vertical-align: middle;\n",
              "    }\n",
              "\n",
              "    .dataframe tbody tr th {\n",
              "        vertical-align: top;\n",
              "    }\n",
              "\n",
              "    .dataframe thead th {\n",
              "        text-align: right;\n",
              "    }\n",
              "</style>\n",
              "<table border=\"1\" class=\"dataframe\">\n",
              "  <thead>\n",
              "    <tr style=\"text-align: right;\">\n",
              "      <th></th>\n",
              "      <th>text</th>\n",
              "      <th>mistrust_filter</th>\n",
              "    </tr>\n",
              "  </thead>\n",
              "  <tbody>\n",
              "    <tr>\n",
              "      <th>7126</th>\n",
              "      <td>Matt Damon on COVID vaccine hesitancy: Trust s...</td>\n",
              "      <td>True</td>\n",
              "    </tr>\n",
              "    <tr>\n",
              "      <th>6981</th>\n",
              "      <td>@EastEndCommuni1 I think you mean “hell, no”. ...</td>\n",
              "      <td>True</td>\n",
              "    </tr>\n",
              "    <tr>\n",
              "      <th>44355</th>\n",
              "      <td>#CovidVaccine !! When? How? Where? Lets answer...</td>\n",
              "      <td>True</td>\n",
              "    </tr>\n",
              "    <tr>\n",
              "      <th>98780</th>\n",
              "      <td>From the donkeys mouth. This then begs the que...</td>\n",
              "      <td>True</td>\n",
              "    </tr>\n",
              "    <tr>\n",
              "      <th>30095</th>\n",
              "      <td>This event is happening tomorrow. Get your que...</td>\n",
              "      <td>True</td>\n",
              "    </tr>\n",
              "    <tr>\n",
              "      <th>...</th>\n",
              "      <td>...</td>\n",
              "      <td>...</td>\n",
              "    </tr>\n",
              "    <tr>\n",
              "      <th>62479</th>\n",
              "      <td>The second COVID-19 vaccine dose is critical f...</td>\n",
              "      <td>True</td>\n",
              "    </tr>\n",
              "    <tr>\n",
              "      <th>85217</th>\n",
              "      <td>@donlemon  @KizzyPhD  @AOC  @NIH  #drfauci  I ...</td>\n",
              "      <td>True</td>\n",
              "    </tr>\n",
              "    <tr>\n",
              "      <th>45426</th>\n",
              "      <td>Join @ourhealthiersel for a special #Instagram...</td>\n",
              "      <td>True</td>\n",
              "    </tr>\n",
              "    <tr>\n",
              "      <th>2290</th>\n",
              "      <td>#COVIDVaccine AotearoA \\nIn New Zealand’s stat...</td>\n",
              "      <td>True</td>\n",
              "    </tr>\n",
              "    <tr>\n",
              "      <th>91707</th>\n",
              "      <td>I'm concerned that we're being too precise wit...</td>\n",
              "      <td>True</td>\n",
              "    </tr>\n",
              "  </tbody>\n",
              "</table>\n",
              "<p>147 rows × 2 columns</p>\n",
              "</div>\n",
              "      <button class=\"colab-df-convert\" onclick=\"convertToInteractive('df-b1e469a9-05c1-4bf0-8ab3-d451a91081e7')\"\n",
              "              title=\"Convert this dataframe to an interactive table.\"\n",
              "              style=\"display:none;\">\n",
              "        \n",
              "  <svg xmlns=\"http://www.w3.org/2000/svg\" height=\"24px\"viewBox=\"0 0 24 24\"\n",
              "       width=\"24px\">\n",
              "    <path d=\"M0 0h24v24H0V0z\" fill=\"none\"/>\n",
              "    <path d=\"M18.56 5.44l.94 2.06.94-2.06 2.06-.94-2.06-.94-.94-2.06-.94 2.06-2.06.94zm-11 1L8.5 8.5l.94-2.06 2.06-.94-2.06-.94L8.5 2.5l-.94 2.06-2.06.94zm10 10l.94 2.06.94-2.06 2.06-.94-2.06-.94-.94-2.06-.94 2.06-2.06.94z\"/><path d=\"M17.41 7.96l-1.37-1.37c-.4-.4-.92-.59-1.43-.59-.52 0-1.04.2-1.43.59L10.3 9.45l-7.72 7.72c-.78.78-.78 2.05 0 2.83L4 21.41c.39.39.9.59 1.41.59.51 0 1.02-.2 1.41-.59l7.78-7.78 2.81-2.81c.8-.78.8-2.07 0-2.86zM5.41 20L4 18.59l7.72-7.72 1.47 1.35L5.41 20z\"/>\n",
              "  </svg>\n",
              "      </button>\n",
              "      \n",
              "  <style>\n",
              "    .colab-df-container {\n",
              "      display:flex;\n",
              "      flex-wrap:wrap;\n",
              "      gap: 12px;\n",
              "    }\n",
              "\n",
              "    .colab-df-convert {\n",
              "      background-color: #E8F0FE;\n",
              "      border: none;\n",
              "      border-radius: 50%;\n",
              "      cursor: pointer;\n",
              "      display: none;\n",
              "      fill: #1967D2;\n",
              "      height: 32px;\n",
              "      padding: 0 0 0 0;\n",
              "      width: 32px;\n",
              "    }\n",
              "\n",
              "    .colab-df-convert:hover {\n",
              "      background-color: #E2EBFA;\n",
              "      box-shadow: 0px 1px 2px rgba(60, 64, 67, 0.3), 0px 1px 3px 1px rgba(60, 64, 67, 0.15);\n",
              "      fill: #174EA6;\n",
              "    }\n",
              "\n",
              "    [theme=dark] .colab-df-convert {\n",
              "      background-color: #3B4455;\n",
              "      fill: #D2E3FC;\n",
              "    }\n",
              "\n",
              "    [theme=dark] .colab-df-convert:hover {\n",
              "      background-color: #434B5C;\n",
              "      box-shadow: 0px 1px 3px 1px rgba(0, 0, 0, 0.15);\n",
              "      filter: drop-shadow(0px 1px 2px rgba(0, 0, 0, 0.3));\n",
              "      fill: #FFFFFF;\n",
              "    }\n",
              "  </style>\n",
              "\n",
              "      <script>\n",
              "        const buttonEl =\n",
              "          document.querySelector('#df-b1e469a9-05c1-4bf0-8ab3-d451a91081e7 button.colab-df-convert');\n",
              "        buttonEl.style.display =\n",
              "          google.colab.kernel.accessAllowed ? 'block' : 'none';\n",
              "\n",
              "        async function convertToInteractive(key) {\n",
              "          const element = document.querySelector('#df-b1e469a9-05c1-4bf0-8ab3-d451a91081e7');\n",
              "          const dataTable =\n",
              "            await google.colab.kernel.invokeFunction('convertToInteractive',\n",
              "                                                     [key], {});\n",
              "          if (!dataTable) return;\n",
              "\n",
              "          const docLinkHtml = 'Like what you see? Visit the ' +\n",
              "            '<a target=\"_blank\" href=https://colab.research.google.com/notebooks/data_table.ipynb>data table notebook</a>'\n",
              "            + ' to learn more about interactive tables.';\n",
              "          element.innerHTML = '';\n",
              "          dataTable['output_type'] = 'display_data';\n",
              "          await google.colab.output.renderOutput(dataTable, element);\n",
              "          const docLink = document.createElement('div');\n",
              "          docLink.innerHTML = docLinkHtml;\n",
              "          element.appendChild(docLink);\n",
              "        }\n",
              "      </script>\n",
              "    </div>\n",
              "  </div>\n",
              "  "
            ]
          },
          "metadata": {},
          "execution_count": 121
        }
      ]
    },
    {
      "cell_type": "markdown",
      "source": [
        "# Apply filters to dataset"
      ],
      "metadata": {
        "id": "iKfYuboMr_0E"
      }
    },
    {
      "cell_type": "markdown",
      "source": [
        "## code to run cascading filters"
      ],
      "metadata": {
        "id": "rl-Pf1YMNCS3"
      }
    },
    {
      "cell_type": "code",
      "source": [
        "def cascading_regex_filter(df, regex_filter_chain, filter_names):\n",
        "  current_tweet_ids = df['tweet_id'].tolist()\n",
        "\n",
        "  # go through each filter level in the cascade\n",
        "  for filter_level in range(len(regex_filter_chain)):\n",
        "\n",
        "    # when multiple filters occur on the same level\n",
        "    if type(filter_names[filter_level]) == list:\n",
        "\n",
        "      # apply each filter to the current set of tweets\n",
        "      for filter in range(len(filter_names[filter_level])):\n",
        "\n",
        "        # initialise filter output columns\n",
        "        df[filter_names[filter_level][filter]] = False\n",
        "\n",
        "        for tweet_id in current_tweet_ids:\n",
        "          # check if the tweet id passes the regex filter\n",
        "          for expression in regex_filter_chain[filter_level][filter]:\n",
        "            pattern = re.compile(expression)\n",
        "            if pattern.match(str(df.loc[df[\"tweet_id\"] == tweet_id, 'text'].values[0])) is not None:\n",
        "              # if it passes the filter, update the dataframe\n",
        "              df.loc[df[\"tweet_id\"] == tweet_id, filter_names[filter_level][filter]] = True\n",
        "              break\n",
        "\n",
        "\n",
        "    # otherwise . . .\n",
        "    else:\n",
        "      # initialise filter output columns\n",
        "      df[filter_names[filter_level]] = False\n",
        "\n",
        "      # go through the current list of tweet ids\n",
        "      working_tweet_ids = current_tweet_ids[:]\n",
        "\n",
        "      for tweet_id in working_tweet_ids:\n",
        "        pass_filter = False\n",
        "        for expression in regex_filter_chain[filter_level]:\n",
        "          pattern = re.compile(expression)\n",
        "          if pattern.match(str(df.loc[df[\"tweet_id\"] == tweet_id, 'text'].values[0])) is not None:\n",
        "            # if it passes the filter, update the dataframe\n",
        "            df.loc[df[\"tweet_id\"] == tweet_id, filter_names[filter_level]] = True\n",
        "            pass_filter = True\n",
        "            break\n",
        "\n",
        "        # if it doesn't pass, remove that tweet id from the working tweet ids\n",
        "        if pass_filter == False:\n",
        "          current_tweet_ids.remove(tweet_id)\n",
        "\n",
        "  return df"
      ],
      "metadata": {
        "id": "1R5Vj4kGr_D9"
      },
      "execution_count": 202,
      "outputs": []
    },
    {
      "cell_type": "markdown",
      "source": [
        "## run cascading filter on dataframe"
      ],
      "metadata": {
        "id": "usVMx0vqM_af"
      }
    },
    {
      "cell_type": "code",
      "source": [
        "regex_filter_chain = [vaccine_filter, hesitancy_filter, [safety_filter, mistrust_filter]]\n",
        "filter_names = ['vaccine_filter', 'hesitancy_filter', ['safety_filter', 'mistrust_filter']]\n",
        "new_random_sample = random_sample.iloc[0:5, :].reset_index().copy()\n",
        "\n",
        "output_df = cascading_regex_filter(random_sample, regex_filter_chain, filter_names)"
      ],
      "metadata": {
        "id": "uM1RiWI9Muf8"
      },
      "execution_count": 203,
      "outputs": []
    },
    {
      "cell_type": "markdown",
      "source": [
        "## explore results after cascading filters"
      ],
      "metadata": {
        "id": "_a2omoesNTXl"
      }
    },
    {
      "cell_type": "code",
      "source": [
        "filter_names = ['vaccine_filter', 'hesitancy_filter', 'safety_filter', 'mistrust_filter']\n",
        "\n",
        "for filter_name in filter_names:\n",
        "  print(f\"\\n{filter_name}:\")\n",
        "  report_label_spread(df = output_df, filter_name = filter_name)"
      ],
      "metadata": {
        "colab": {
          "base_uri": "https://localhost:8080/"
        },
        "id": "VCei36UyNS2S",
        "outputId": "ba27600a-46a1-4966-8a8d-c0a8e892044a"
      },
      "execution_count": 204,
      "outputs": [
        {
          "output_type": "stream",
          "name": "stdout",
          "text": [
            "\n",
            "vaccine_filter:\n",
            "Proportion positive labels: 0.2799\n",
            "Proportion negative labels: 0.7201\n",
            "\n",
            "hesitancy_filter:\n",
            "Proportion positive labels: 0.0101\n",
            "Proportion negative labels: 0.9899\n",
            "\n",
            "safety_filter:\n",
            "Proportion positive labels: 0.0005\n",
            "Proportion negative labels: 0.9995\n",
            "\n",
            "mistrust_filter:\n",
            "Proportion positive labels: 0.0049\n",
            "Proportion negative labels: 0.9951\n"
          ]
        }
      ]
    },
    {
      "cell_type": "code",
      "source": [
        "from google.colab import files\n",
        "\n",
        "output_df.to_csv('cascading_regex_filters_results.csv', encoding = 'utf-8-sig')\n",
        "files.download('cascading_regex_filters_results.csv')"
      ],
      "metadata": {
        "id": "IfB7DgECM95n"
      },
      "execution_count": null,
      "outputs": []
    }
  ]
}