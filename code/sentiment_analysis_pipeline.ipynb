{
  "nbformat": 4,
  "nbformat_minor": 0,
  "metadata": {
    "colab": {
      "provenance": [],
      "collapsed_sections": [
        "RWKLlr53gifF",
        "6GSgjtSHkcNI",
        "DdylawrsjIhx",
        "CzEHW_okUGR_"
      ],
      "toc_visible": true,
      "gpuType": "T4",
      "authorship_tag": "ABX9TyOy+/egCUP8o6Dtwbh3i73+",
      "include_colab_link": true
    },
    "kernelspec": {
      "name": "python3",
      "display_name": "Python 3"
    },
    "language_info": {
      "name": "python"
    },
    "accelerator": "GPU"
  },
  "cells": [
    {
      "cell_type": "markdown",
      "metadata": {
        "id": "view-in-github",
        "colab_type": "text"
      },
      "source": [
        "<a href=\"https://colab.research.google.com/github/dzanahmed/welcome-ideathon-lshtm/blob/main/code/sentiment_analysis_pipeline.ipynb\" target=\"_parent\"><img src=\"https://colab.research.google.com/assets/colab-badge.svg\" alt=\"Open In Colab\"/></a>"
      ]
    },
    {
      "cell_type": "markdown",
      "source": [
        "# Setup"
      ],
      "metadata": {
        "id": "RWKLlr53gifF"
      }
    },
    {
      "cell_type": "markdown",
      "source": [
        "## Install transformers datasets"
      ],
      "metadata": {
        "id": "6GSgjtSHkcNI"
      }
    },
    {
      "cell_type": "code",
      "source": [
        "! pip install transformers datasets"
      ],
      "metadata": {
        "colab": {
          "base_uri": "https://localhost:8080/"
        },
        "id": "qkIMSVUCgkn1",
        "outputId": "de13155f-0169-425e-a3c8-9895824008f0"
      },
      "execution_count": 13,
      "outputs": [
        {
          "output_type": "stream",
          "name": "stdout",
          "text": [
            "Requirement already satisfied: transformers in /usr/local/lib/python3.10/dist-packages (4.30.2)\n",
            "Requirement already satisfied: datasets in /usr/local/lib/python3.10/dist-packages (2.13.1)\n",
            "Requirement already satisfied: filelock in /usr/local/lib/python3.10/dist-packages (from transformers) (3.12.2)\n",
            "Requirement already satisfied: huggingface-hub<1.0,>=0.14.1 in /usr/local/lib/python3.10/dist-packages (from transformers) (0.15.1)\n",
            "Requirement already satisfied: numpy>=1.17 in /usr/local/lib/python3.10/dist-packages (from transformers) (1.22.4)\n",
            "Requirement already satisfied: packaging>=20.0 in /usr/local/lib/python3.10/dist-packages (from transformers) (23.1)\n",
            "Requirement already satisfied: pyyaml>=5.1 in /usr/local/lib/python3.10/dist-packages (from transformers) (6.0)\n",
            "Requirement already satisfied: regex!=2019.12.17 in /usr/local/lib/python3.10/dist-packages (from transformers) (2022.10.31)\n",
            "Requirement already satisfied: requests in /usr/local/lib/python3.10/dist-packages (from transformers) (2.27.1)\n",
            "Requirement already satisfied: tokenizers!=0.11.3,<0.14,>=0.11.1 in /usr/local/lib/python3.10/dist-packages (from transformers) (0.13.3)\n",
            "Requirement already satisfied: safetensors>=0.3.1 in /usr/local/lib/python3.10/dist-packages (from transformers) (0.3.1)\n",
            "Requirement already satisfied: tqdm>=4.27 in /usr/local/lib/python3.10/dist-packages (from transformers) (4.65.0)\n",
            "Requirement already satisfied: pyarrow>=8.0.0 in /usr/local/lib/python3.10/dist-packages (from datasets) (9.0.0)\n",
            "Requirement already satisfied: dill<0.3.7,>=0.3.0 in /usr/local/lib/python3.10/dist-packages (from datasets) (0.3.6)\n",
            "Requirement already satisfied: pandas in /usr/local/lib/python3.10/dist-packages (from datasets) (1.5.3)\n",
            "Requirement already satisfied: xxhash in /usr/local/lib/python3.10/dist-packages (from datasets) (3.2.0)\n",
            "Requirement already satisfied: multiprocess in /usr/local/lib/python3.10/dist-packages (from datasets) (0.70.14)\n",
            "Requirement already satisfied: fsspec[http]>=2021.11.1 in /usr/local/lib/python3.10/dist-packages (from datasets) (2023.6.0)\n",
            "Requirement already satisfied: aiohttp in /usr/local/lib/python3.10/dist-packages (from datasets) (3.8.4)\n",
            "Requirement already satisfied: attrs>=17.3.0 in /usr/local/lib/python3.10/dist-packages (from aiohttp->datasets) (23.1.0)\n",
            "Requirement already satisfied: charset-normalizer<4.0,>=2.0 in /usr/local/lib/python3.10/dist-packages (from aiohttp->datasets) (2.0.12)\n",
            "Requirement already satisfied: multidict<7.0,>=4.5 in /usr/local/lib/python3.10/dist-packages (from aiohttp->datasets) (6.0.4)\n",
            "Requirement already satisfied: async-timeout<5.0,>=4.0.0a3 in /usr/local/lib/python3.10/dist-packages (from aiohttp->datasets) (4.0.2)\n",
            "Requirement already satisfied: yarl<2.0,>=1.0 in /usr/local/lib/python3.10/dist-packages (from aiohttp->datasets) (1.9.2)\n",
            "Requirement already satisfied: frozenlist>=1.1.1 in /usr/local/lib/python3.10/dist-packages (from aiohttp->datasets) (1.3.3)\n",
            "Requirement already satisfied: aiosignal>=1.1.2 in /usr/local/lib/python3.10/dist-packages (from aiohttp->datasets) (1.3.1)\n",
            "Requirement already satisfied: typing-extensions>=3.7.4.3 in /usr/local/lib/python3.10/dist-packages (from huggingface-hub<1.0,>=0.14.1->transformers) (4.6.3)\n",
            "Requirement already satisfied: urllib3<1.27,>=1.21.1 in /usr/local/lib/python3.10/dist-packages (from requests->transformers) (1.26.16)\n",
            "Requirement already satisfied: certifi>=2017.4.17 in /usr/local/lib/python3.10/dist-packages (from requests->transformers) (2023.5.7)\n",
            "Requirement already satisfied: idna<4,>=2.5 in /usr/local/lib/python3.10/dist-packages (from requests->transformers) (3.4)\n",
            "Requirement already satisfied: python-dateutil>=2.8.1 in /usr/local/lib/python3.10/dist-packages (from pandas->datasets) (2.8.2)\n",
            "Requirement already satisfied: pytz>=2020.1 in /usr/local/lib/python3.10/dist-packages (from pandas->datasets) (2022.7.1)\n",
            "Requirement already satisfied: six>=1.5 in /usr/local/lib/python3.10/dist-packages (from python-dateutil>=2.8.1->pandas->datasets) (1.16.0)\n"
          ]
        }
      ]
    },
    {
      "cell_type": "markdown",
      "source": [
        "## Load packages"
      ],
      "metadata": {
        "id": "d6GZiRQ5kf9f"
      }
    },
    {
      "cell_type": "code",
      "execution_count": 14,
      "metadata": {
        "id": "sKDICTnHf0cY"
      },
      "outputs": [],
      "source": [
        "from transformers import pipeline, Pipeline\n",
        "import pandas as pd\n",
        "\n",
        "from transformers import TFAutoModelForSequenceClassification\n",
        "from transformers import AutoTokenizer, AutoConfig\n",
        "from datasets import Dataset\n",
        "import numpy as np\n",
        "from scipy.special import softmax\n"
      ]
    },
    {
      "cell_type": "markdown",
      "source": [
        "## Load data into dataframe"
      ],
      "metadata": {
        "id": "vimLjpxmi6ER"
      }
    },
    {
      "cell_type": "code",
      "source": [
        "url = \"https://raw.githubusercontent.com/dzanahmed/welcome-ideathon-lshtm/main/data/interim/vax_tweets_v0.csv?token=GHSAT0AAAAAACB5CGEQMPYIQ2WQ5ZJ7RXBGZFEQCLA\"\n",
        "df = pd.read_csv(url)\n"
      ],
      "metadata": {
        "id": "POssrrolgz2k"
      },
      "execution_count": 15,
      "outputs": []
    },
    {
      "cell_type": "markdown",
      "source": [
        "## Load dataframe into dataset"
      ],
      "metadata": {
        "id": "DdylawrsjIhx"
      }
    },
    {
      "cell_type": "markdown",
      "source": [
        "#### Bit of data cleaning"
      ],
      "metadata": {
        "id": "XbVDltsSmB3N"
      }
    },
    {
      "cell_type": "code",
      "source": [
        "\n",
        "# rename first column to tweet_id\n",
        "df.columns.values[0] = 'tweet_id'\n",
        "\n",
        "# coerce all columnns to the correct data type.\n",
        "df['user_followers'] = pd.to_numeric(df['user_followers'], errors='coerce').astype('Int64')\n",
        "df['user_friends'] = pd.to_numeric(df['user_friends'], errors='coerce').astype('Int64')\n",
        "df['user_favourites'] = pd.to_numeric(df['user_favourites'], errors='coerce').astype('Int64')\n",
        "df['user_verified'] = df['user_verified'].astype(bool)\n",
        "df['is_retweet'] = df['is_retweet'].astype(bool)\n"
      ],
      "metadata": {
        "id": "7yAGUWu0izMs"
      },
      "execution_count": 16,
      "outputs": []
    },
    {
      "cell_type": "markdown",
      "source": [
        "#### Load dataframe into huggingface dataset object"
      ],
      "metadata": {
        "id": "0c2d196dovtU"
      }
    },
    {
      "cell_type": "code",
      "source": [
        "df = df[['tweet_id', 'text']]\n",
        "print(len(df))\n",
        "\n",
        "df = df.dropna()\n",
        "print(len(df))\n",
        "\n",
        "\n",
        "# save dataframe as a dataset\n",
        "dataset = Dataset.from_pandas(df)\n",
        "print(len(dataset))"
      ],
      "metadata": {
        "id": "mTNXxbM5pZ5o",
        "colab": {
          "base_uri": "https://localhost:8080/"
        },
        "outputId": "631b1185-e445-458d-82d2-31ebdedb4947"
      },
      "execution_count": 17,
      "outputs": [
        {
          "output_type": "stream",
          "name": "stdout",
          "text": [
            "99997\n",
            "99988\n",
            "99988\n"
          ]
        }
      ]
    },
    {
      "cell_type": "markdown",
      "source": [
        "## Load RoBERTa model\n"
      ],
      "metadata": {
        "id": "7X0PBv6no2a7"
      }
    },
    {
      "cell_type": "code",
      "source": [
        "model_path = f\"cardiffnlp/twitter-roberta-base-sentiment-latest\"\n",
        "tokenizer = AutoTokenizer.from_pretrained(model_path)\n",
        "config = AutoConfig.from_pretrained(model_path)\n",
        "model = TFAutoModelForSequenceClassification.from_pretrained(model_path)"
      ],
      "metadata": {
        "colab": {
          "base_uri": "https://localhost:8080/"
        },
        "id": "tKpfqLOXtoN5",
        "outputId": "2f80b642-69c7-432f-879f-5c889d8516fa"
      },
      "execution_count": 18,
      "outputs": [
        {
          "output_type": "stream",
          "name": "stderr",
          "text": [
            "All model checkpoint layers were used when initializing TFRobertaForSequenceClassification.\n",
            "\n",
            "Some layers of TFRobertaForSequenceClassification were not initialized from the model checkpoint at cardiffnlp/twitter-roberta-base-sentiment-latest and are newly initialized: ['classifier']\n",
            "You should probably TRAIN this model on a down-stream task to be able to use it for predictions and inference.\n"
          ]
        }
      ]
    },
    {
      "cell_type": "markdown",
      "source": [
        "# Get Sentiment Analysis Predictions from RoBERTa Model"
      ],
      "metadata": {
        "id": "CzEHW_okUGR_"
      }
    },
    {
      "cell_type": "code",
      "source": [
        "batch_size = 100\n",
        "max_batches = int(len(dataset[\"text\"]) / batch_size) + 1\n",
        "n_batches = max_batches\n",
        "\n",
        "df[\"negative_score\"] = None\n",
        "df[\"neutral_score\"] = None\n",
        "df[\"positive_score\"] = None\n",
        "\n",
        "for batch in range(n_batches):\n",
        "\n",
        "  # store batch of tweets\n",
        "  if batch < max_batches - 1:\n",
        "    tweets_batch = dataset[\"text\"][(batch * batch_size) : ((batch + 1) * batch_size)]\n",
        "  else:\n",
        "    tweets_batch = dataset[\"text\"][(batch * batch_size) : len(dataset[\"text\"])]\n",
        "\n",
        "\n",
        "  # tokenize batch\n",
        "  tokens = tokenizer(tweets_batch, padding=True, truncation=True, return_tensors=\"tf\")\n",
        "\n",
        "  # run batch through model\n",
        "  output = model(**tokens)\n",
        "\n",
        "  # extract the output into a dataframe\n",
        "  for output_row in range(len(output.logits)):\n",
        "    # convert from logit to softmax (probability) output\n",
        "    probabilities = softmax(output.logits.numpy()[output_row])\n",
        "\n",
        "    # store probabilities in correct column of data frame\n",
        "    df.loc[batch * batch_size + output_row, \"negative_score\"] = probabilities[0]\n",
        "    df.loc[batch * batch_size + output_row, \"neutral_score\"] = probabilities[1]\n",
        "    df.loc[batch * batch_size + output_row, \"positive_score\"] = probabilities[2]\n",
        "\n",
        "  print(batch)"
      ],
      "metadata": {
        "id": "JZJXTUSmmiHA"
      },
      "execution_count": null,
      "outputs": []
    },
    {
      "cell_type": "code",
      "source": [
        "df.head()"
      ],
      "metadata": {
        "colab": {
          "base_uri": "https://localhost:8080/",
          "height": 458
        },
        "id": "FbvU8_mYeE3S",
        "outputId": "eb397963-7d23-412a-cb33-6cf7fef427a7"
      },
      "execution_count": 37,
      "outputs": [
        {
          "output_type": "execute_result",
          "data": {
            "text/plain": [
              "   tweet_id                                               text negative_score  \\\n",
              "0         1  We asked our coworkers why they're getting a C...       0.324697   \n",
              "1         2  45+ #RURAL #Bengaluru #CovidVaccine Availabili...        0.32574   \n",
              "2         3  @JoyAnnReid @NIH  👿Questions:  Could the vacci...       0.353092   \n",
              "3         4  Next question is how do you find out where you...       0.352246   \n",
              "4         5  If you told your child to get a Covid vaccine,...       0.329444   \n",
              "\n",
              "  neutral_score positive_score  \n",
              "0      0.369014       0.306289  \n",
              "1      0.339726       0.334534  \n",
              "2      0.343143       0.303765  \n",
              "3       0.35727       0.290484  \n",
              "4      0.395002       0.275554  "
            ],
            "text/html": [
              "\n",
              "  <div id=\"df-ece5a177-752b-46ce-8131-3f108a22130d\">\n",
              "    <div class=\"colab-df-container\">\n",
              "      <div>\n",
              "<style scoped>\n",
              "    .dataframe tbody tr th:only-of-type {\n",
              "        vertical-align: middle;\n",
              "    }\n",
              "\n",
              "    .dataframe tbody tr th {\n",
              "        vertical-align: top;\n",
              "    }\n",
              "\n",
              "    .dataframe thead th {\n",
              "        text-align: right;\n",
              "    }\n",
              "</style>\n",
              "<table border=\"1\" class=\"dataframe\">\n",
              "  <thead>\n",
              "    <tr style=\"text-align: right;\">\n",
              "      <th></th>\n",
              "      <th>tweet_id</th>\n",
              "      <th>text</th>\n",
              "      <th>negative_score</th>\n",
              "      <th>neutral_score</th>\n",
              "      <th>positive_score</th>\n",
              "    </tr>\n",
              "  </thead>\n",
              "  <tbody>\n",
              "    <tr>\n",
              "      <th>0</th>\n",
              "      <td>1</td>\n",
              "      <td>We asked our coworkers why they're getting a C...</td>\n",
              "      <td>0.324697</td>\n",
              "      <td>0.369014</td>\n",
              "      <td>0.306289</td>\n",
              "    </tr>\n",
              "    <tr>\n",
              "      <th>1</th>\n",
              "      <td>2</td>\n",
              "      <td>45+ #RURAL #Bengaluru #CovidVaccine Availabili...</td>\n",
              "      <td>0.32574</td>\n",
              "      <td>0.339726</td>\n",
              "      <td>0.334534</td>\n",
              "    </tr>\n",
              "    <tr>\n",
              "      <th>2</th>\n",
              "      <td>3</td>\n",
              "      <td>@JoyAnnReid @NIH  👿Questions:  Could the vacci...</td>\n",
              "      <td>0.353092</td>\n",
              "      <td>0.343143</td>\n",
              "      <td>0.303765</td>\n",
              "    </tr>\n",
              "    <tr>\n",
              "      <th>3</th>\n",
              "      <td>4</td>\n",
              "      <td>Next question is how do you find out where you...</td>\n",
              "      <td>0.352246</td>\n",
              "      <td>0.35727</td>\n",
              "      <td>0.290484</td>\n",
              "    </tr>\n",
              "    <tr>\n",
              "      <th>4</th>\n",
              "      <td>5</td>\n",
              "      <td>If you told your child to get a Covid vaccine,...</td>\n",
              "      <td>0.329444</td>\n",
              "      <td>0.395002</td>\n",
              "      <td>0.275554</td>\n",
              "    </tr>\n",
              "  </tbody>\n",
              "</table>\n",
              "</div>\n",
              "      <button class=\"colab-df-convert\" onclick=\"convertToInteractive('df-ece5a177-752b-46ce-8131-3f108a22130d')\"\n",
              "              title=\"Convert this dataframe to an interactive table.\"\n",
              "              style=\"display:none;\">\n",
              "        \n",
              "  <svg xmlns=\"http://www.w3.org/2000/svg\" height=\"24px\"viewBox=\"0 0 24 24\"\n",
              "       width=\"24px\">\n",
              "    <path d=\"M0 0h24v24H0V0z\" fill=\"none\"/>\n",
              "    <path d=\"M18.56 5.44l.94 2.06.94-2.06 2.06-.94-2.06-.94-.94-2.06-.94 2.06-2.06.94zm-11 1L8.5 8.5l.94-2.06 2.06-.94-2.06-.94L8.5 2.5l-.94 2.06-2.06.94zm10 10l.94 2.06.94-2.06 2.06-.94-2.06-.94-.94-2.06-.94 2.06-2.06.94z\"/><path d=\"M17.41 7.96l-1.37-1.37c-.4-.4-.92-.59-1.43-.59-.52 0-1.04.2-1.43.59L10.3 9.45l-7.72 7.72c-.78.78-.78 2.05 0 2.83L4 21.41c.39.39.9.59 1.41.59.51 0 1.02-.2 1.41-.59l7.78-7.78 2.81-2.81c.8-.78.8-2.07 0-2.86zM5.41 20L4 18.59l7.72-7.72 1.47 1.35L5.41 20z\"/>\n",
              "  </svg>\n",
              "      </button>\n",
              "      \n",
              "  <style>\n",
              "    .colab-df-container {\n",
              "      display:flex;\n",
              "      flex-wrap:wrap;\n",
              "      gap: 12px;\n",
              "    }\n",
              "\n",
              "    .colab-df-convert {\n",
              "      background-color: #E8F0FE;\n",
              "      border: none;\n",
              "      border-radius: 50%;\n",
              "      cursor: pointer;\n",
              "      display: none;\n",
              "      fill: #1967D2;\n",
              "      height: 32px;\n",
              "      padding: 0 0 0 0;\n",
              "      width: 32px;\n",
              "    }\n",
              "\n",
              "    .colab-df-convert:hover {\n",
              "      background-color: #E2EBFA;\n",
              "      box-shadow: 0px 1px 2px rgba(60, 64, 67, 0.3), 0px 1px 3px 1px rgba(60, 64, 67, 0.15);\n",
              "      fill: #174EA6;\n",
              "    }\n",
              "\n",
              "    [theme=dark] .colab-df-convert {\n",
              "      background-color: #3B4455;\n",
              "      fill: #D2E3FC;\n",
              "    }\n",
              "\n",
              "    [theme=dark] .colab-df-convert:hover {\n",
              "      background-color: #434B5C;\n",
              "      box-shadow: 0px 1px 3px 1px rgba(0, 0, 0, 0.15);\n",
              "      filter: drop-shadow(0px 1px 2px rgba(0, 0, 0, 0.3));\n",
              "      fill: #FFFFFF;\n",
              "    }\n",
              "  </style>\n",
              "\n",
              "      <script>\n",
              "        const buttonEl =\n",
              "          document.querySelector('#df-ece5a177-752b-46ce-8131-3f108a22130d button.colab-df-convert');\n",
              "        buttonEl.style.display =\n",
              "          google.colab.kernel.accessAllowed ? 'block' : 'none';\n",
              "\n",
              "        async function convertToInteractive(key) {\n",
              "          const element = document.querySelector('#df-ece5a177-752b-46ce-8131-3f108a22130d');\n",
              "          const dataTable =\n",
              "            await google.colab.kernel.invokeFunction('convertToInteractive',\n",
              "                                                     [key], {});\n",
              "          if (!dataTable) return;\n",
              "\n",
              "          const docLinkHtml = 'Like what you see? Visit the ' +\n",
              "            '<a target=\"_blank\" href=https://colab.research.google.com/notebooks/data_table.ipynb>data table notebook</a>'\n",
              "            + ' to learn more about interactive tables.';\n",
              "          element.innerHTML = '';\n",
              "          dataTable['output_type'] = 'display_data';\n",
              "          await google.colab.output.renderOutput(dataTable, element);\n",
              "          const docLink = document.createElement('div');\n",
              "          docLink.innerHTML = docLinkHtml;\n",
              "          element.appendChild(docLink);\n",
              "        }\n",
              "      </script>\n",
              "    </div>\n",
              "  </div>\n",
              "  "
            ]
          },
          "metadata": {},
          "execution_count": 37
        }
      ]
    },
    {
      "cell_type": "markdown",
      "source": [
        "## Save Results to csv file"
      ],
      "metadata": {
        "id": "zw89mwahZkns"
      }
    },
    {
      "cell_type": "code",
      "source": [
        "from google.colab import files\n",
        "\n",
        "df.to_csv('sentiment_analysis.csv', encoding = 'utf-8-sig')\n",
        "files.download('sentiment_analysis.csv')"
      ],
      "metadata": {
        "id": "xEWLvJuyXsIS"
      },
      "execution_count": null,
      "outputs": []
    }
  ]
}